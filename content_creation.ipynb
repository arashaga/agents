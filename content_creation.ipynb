{
 "cells": [
  {
   "cell_type": "markdown",
   "id": "bae53a09-c04c-4916-a146-00e0bb188954",
   "metadata": {},
   "source": [
    "# Content Creation at Scale"
   ]
  },
  {
   "cell_type": "markdown",
   "id": "ece8c6f9-763c-47ea-b8e8-65001bd08aae",
   "metadata": {},
   "source": [
    "## Initial Imports"
   ]
  },
  {
   "cell_type": "code",
   "execution_count": null,
   "id": "41d1ce58-9d2e-4349-acbd-49227e37d31c",
   "metadata": {
    "height": 200
   },
   "outputs": [],
   "source": [
    "# Warning control\n",
    "import warnings\n",
    "warnings.filterwarnings('ignore')\n",
    "\n",
    "\n",
    "\n",
    "import os\n",
    "from dotenv import load_dotenv\n",
    "import yaml\n",
    "from crewai import Agent, Task, Crew, LLM"
   ]
  },
  {
   "cell_type": "code",
   "execution_count": null,
   "id": "8f7183cf",
   "metadata": {},
   "outputs": [],
   "source": [
    "load_dotenv()\n"
   ]
  },
  {
   "cell_type": "markdown",
   "id": "57b9bbe5-e31b-4267-828b-45c98edda89e",
   "metadata": {},
   "source": [
    "## Creating Structured Output"
   ]
  },
  {
   "cell_type": "code",
   "execution_count": null,
   "id": "0f171b23-b3cc-48c9-a8ba-07358e271e63",
   "metadata": {
    "height": 200
   },
   "outputs": [],
   "source": [
    "from pydantic import BaseModel, Field\n",
    "from typing import List\n",
    "\n",
    "class SocialMediaPost(BaseModel):\n",
    "    platform: str = Field(..., description=\"The social media platform where the post will be published (e.g., Twitter, LinkedIn).\")\n",
    "    content: str = Field(..., description=\"The content of the social media post, including any hashtags or mentions.\")\n",
    "\n",
    "class ContentOutput(BaseModel):\n",
    "    article: str = Field(..., description=\"The article, formatted in markdown.\")\n",
    "    social_media_posts: List[SocialMediaPost] = Field(..., description=\"A list of social media posts related to the article.\")"
   ]
  },
  {
   "cell_type": "markdown",
   "id": "dd03a195-a1a5-4667-9108-24a7f9094618",
   "metadata": {},
   "source": [
    "## Loading Tasks and Agents YAML files"
   ]
  },
  {
   "cell_type": "markdown",
   "id": "afb62835",
   "metadata": {},
   "source": [
    "we want to make sure the data is consistent when we passed them around to different agents and systems"
   ]
  },
  {
   "cell_type": "code",
   "execution_count": null,
   "id": "f58e827a-8e2e-4f1d-8f8c-9486828f951d",
   "metadata": {
    "height": 268
   },
   "outputs": [],
   "source": [
    "# Define file paths for YAML configurations\n",
    "files = {\n",
    "    'agents': 'config/agents.yaml',\n",
    "    'tasks': 'config/tasks.yaml'\n",
    "}\n",
    "\n",
    "# Load configurations from YAML files\n",
    "configs = {}\n",
    "for config_type, file_path in files.items():\n",
    "    with open(file_path, 'r') as file:\n",
    "        configs[config_type] = yaml.safe_load(file)\n",
    "\n",
    "# Assign loaded configurations to specific variables\n",
    "agents_config = configs['agents']\n",
    "tasks_config = configs['tasks']"
   ]
  },
  {
   "cell_type": "markdown",
   "id": "e24d40ea-b1cc-42e9-bac2-1467103edfd8",
   "metadata": {},
   "source": [
    "## Importing CrewAI Tools"
   ]
  },
  {
   "cell_type": "code",
   "execution_count": null,
   "id": "33d2c719-9823-4d12-bd87-219f5145f7dc",
   "metadata": {
    "height": 47
   },
   "outputs": [],
   "source": [
    "from crewai_tools import SerperDevTool, ScrapeWebsiteTool, WebsiteSearchTool"
   ]
  },
  {
   "cell_type": "markdown",
   "id": "0cb0edba-dea0-4547-a61c-88ea6608c1a5",
   "metadata": {},
   "source": [
    "## Setup Multi LLM models"
   ]
  },
  {
   "cell_type": "code",
   "execution_count": null,
   "id": "b49f2950",
   "metadata": {},
   "outputs": [],
   "source": [
    "websearchtool = WebsiteSearchTool(\n",
    "    config=dict(\n",
    "        llm=dict(\n",
    "            provider=\"azure_openai\", # or google, openai, anthropic, llama2, ...\n",
    "            config=dict(\n",
    "                model=\"gpt-4o-mini\",\n",
    "                # temperature=0.5,\n",
    "                # top_p=1,\n",
    "                # stream=true,\n",
    "            ),\n",
    "        ),\n",
    "        embedder=dict(\n",
    "            provider=\"azure_openai\", # or openai, ollama, ...\n",
    "            config=dict(\n",
    "                model=\"text-embedding-ada-002\",\n",
    "                deployment_name= \"text-embedding-ada-002\",\n",
    "                #task_type=\"retrieval_document\",\n",
    "                # title=\"Embeddings\",\n",
    "            ),\n",
    "        ),\n",
    "    )\n",
    ")\n"
   ]
  },
  {
   "cell_type": "markdown",
   "id": "d71692a9-ff30-4497-a8df-25bf5b5a100e",
   "metadata": {},
   "source": [
    "## Creating Crew, Agents, and Tasks"
   ]
  },
  {
   "cell_type": "code",
   "execution_count": null,
   "id": "9e861574-0f9b-4f2c-b2d1-a230fc3a53a3",
   "metadata": {
    "height": 1050
   },
   "outputs": [],
   "source": [
    "# Creating Agents\n",
    "market_news_monitor_agent = Agent(\n",
    "    config=agents_config['market_news_monitor_agent'],\n",
    "    tools=[SerperDevTool(), ScrapeWebsiteTool()],\n",
    "    llm=LLM(model=f'azure/gpt-4o'),\n",
    ")\n",
    "\n",
    "data_analyst_agent = Agent(\n",
    "    config=agents_config['data_analyst_agent'],\n",
    "    tools=[SerperDevTool(), websearchtool],\n",
    "    llm=LLM(model=f'azure/gpt-4o'),\n",
    ")\n",
    "\n",
    "content_creator_agent = Agent(\n",
    "    config=agents_config['content_creator_agent'],\n",
    "    tools=[SerperDevTool(), websearchtool], # had to customize WebsiteSearchTool\n",
    "    llm=LLM(model=f'azure/gpt-4o')\n",
    ")\n",
    "\n",
    "quality_assurance_agent = Agent(\n",
    "    config=agents_config['quality_assurance_agent'],\n",
    "    llm=LLM(model=f'azure/gpt-4o')\n",
    ")\n",
    "\n",
    "# Creating Tasks\n",
    "monitor_financial_news_task = Task(\n",
    "    config=tasks_config['monitor_financial_news'],\n",
    "    agent=market_news_monitor_agent\n",
    ")\n",
    "\n",
    "analyze_market_data_task = Task(\n",
    "    config=tasks_config['analyze_market_data'],\n",
    "    agent=data_analyst_agent\n",
    ")\n",
    "\n",
    "create_content_task = Task(\n",
    "    config=tasks_config['create_content'],\n",
    "    agent=content_creator_agent,\n",
    "    context=[monitor_financial_news_task, analyze_market_data_task]\n",
    ")\n",
    "\n",
    "quality_assurance_task = Task(\n",
    "    config=tasks_config['quality_assurance'],\n",
    "    agent=quality_assurance_agent,\n",
    "    output_pydantic=ContentOutput\n",
    ")\n",
    "\n",
    "# Creating Crew\n",
    "content_creation_crew = Crew(\n",
    "    agents=[\n",
    "        market_news_monitor_agent,\n",
    "        data_analyst_agent,\n",
    "        content_creator_agent,\n",
    "        quality_assurance_agent\n",
    "    ],\n",
    "    tasks=[\n",
    "        monitor_financial_news_task,\n",
    "        analyze_market_data_task,\n",
    "        create_content_task,\n",
    "        quality_assurance_task\n",
    "    ],\n",
    "    verbose=True\n",
    ")"
   ]
  },
  {
   "cell_type": "markdown",
   "id": "60caa956-a429-424f-b5cc-59ebaa21ba82",
   "metadata": {},
   "source": [
    "## Kicking off the Crew"
   ]
  },
  {
   "cell_type": "code",
   "execution_count": null,
   "id": "831a24e8-055c-4008-844b-270a76c35898",
   "metadata": {
    "height": 81
   },
   "outputs": [],
   "source": [
    "result = content_creation_crew.kickoff(inputs={\n",
    "  'subject': 'Inflation in the US and the impact on the stock market in 2024'\n",
    "})"
   ]
  },
  {
   "cell_type": "markdown",
   "id": "0276872f-fcb9-43e9-9372-e9a6ee35a7e6",
   "metadata": {},
   "source": [
    "## Social Content"
   ]
  },
  {
   "cell_type": "code",
   "execution_count": null,
   "id": "66b3b165-2a4b-46cc-93f7-696dffff1e10",
   "metadata": {
    "height": 183
   },
   "outputs": [],
   "source": [
    "import textwrap\n",
    "\n",
    "posts = result.pydantic.dict()['social_media_posts']\n",
    "for post in posts:\n",
    "    platform = post['platform']\n",
    "    content = post['content']\n",
    "    print(platform)\n",
    "    wrapped_content = textwrap.fill(content, width=50)\n",
    "    print(wrapped_content)\n",
    "    print('-' * 50)"
   ]
  },
  {
   "cell_type": "markdown",
   "id": "bbde59f0-e97a-468c-992c-3ce4faba9bc7",
   "metadata": {},
   "source": [
    "## Blog Post"
   ]
  },
  {
   "cell_type": "code",
   "execution_count": null,
   "id": "6396b0f6-e3ae-4a89-a3e9-ca53aa042c40",
   "metadata": {
    "height": 47
   },
   "outputs": [],
   "source": [
    "from IPython.display import display, Markdown\n",
    "display(Markdown(result.pydantic.dict()['article']))"
   ]
  },
  {
   "cell_type": "code",
   "execution_count": null,
   "id": "b3b8f6a6-ca28-4a48-ae43-56ccf6284b03",
   "metadata": {
    "height": 30
   },
   "outputs": [],
   "source": []
  },
  {
   "cell_type": "code",
   "execution_count": null,
   "id": "da1bbf90-4bfc-4529-84dd-d0bd00198353",
   "metadata": {
    "height": 30
   },
   "outputs": [],
   "source": []
  },
  {
   "cell_type": "code",
   "execution_count": null,
   "id": "4ab95950-d13d-472d-9482-34b564868a9e",
   "metadata": {
    "height": 30
   },
   "outputs": [],
   "source": []
  },
  {
   "cell_type": "code",
   "execution_count": null,
   "id": "91c2f18c-2d5b-41a9-837b-265e7aa245d0",
   "metadata": {
    "height": 30
   },
   "outputs": [],
   "source": []
  },
  {
   "cell_type": "code",
   "execution_count": null,
   "id": "a593fd80-36ef-48a1-a7c7-e45c37815f67",
   "metadata": {
    "height": 30
   },
   "outputs": [],
   "source": []
  },
  {
   "cell_type": "code",
   "execution_count": null,
   "id": "109926d3-50e5-43e7-87f8-a1d38e45d79d",
   "metadata": {
    "height": 30
   },
   "outputs": [],
   "source": [
    "import pandas as pd\n",
    "\n",
    "costs = 2.50 * (content_creation_crew.usage_metrics.prompt_tokens + content_creation_crew.usage_metrics.completion_tokens) / 1_000_000\n",
    "print(f\"Total costs: ${costs:.4f}\")\n",
    "\n",
    "# Convert UsageMetrics instance to a DataFrame\n",
    "df_usage_metrics = pd.DataFrame([content_creation_crew.usage_metrics.dict()])\n",
    "df_usage_metrics"
   ]
  },
  {
   "cell_type": "code",
   "execution_count": null,
   "id": "28d3d4f7",
   "metadata": {},
   "outputs": [],
   "source": []
  }
 ],
 "metadata": {
  "kernelspec": {
   "display_name": "Python 3",
   "language": "python",
   "name": "python3"
  },
  "language_info": {
   "codemirror_mode": {
    "name": "ipython",
    "version": 3
   },
   "file_extension": ".py",
   "mimetype": "text/x-python",
   "name": "python",
   "nbconvert_exporter": "python",
   "pygments_lexer": "ipython3",
   "version": "3.12.8"
  }
 },
 "nbformat": 4,
 "nbformat_minor": 5
}
