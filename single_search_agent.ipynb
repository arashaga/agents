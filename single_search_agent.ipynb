{
 "cells": [
  {
   "cell_type": "code",
   "execution_count": null,
   "id": "5255523b",
   "metadata": {},
   "outputs": [],
   "source": [
    "import logging\n",
    "from dotenv import load_dotenv\n",
    "\n",
    "from semantic_kernel import Kernel\n",
    "from semantic_kernel.agents import ChatCompletionAgent, ChatHistoryAgentThread\n",
    "from semantic_kernel.connectors.ai.open_ai import AzureChatCompletion\n",
    "\n",
    "# Load environment variables from .env file\n",
    "load_dotenv()\n",
    "\n",
    "# NOTE: This is all that is required to enable logging.\n",
    "# Set the desired level to INFO, DEBUG, etc.\n",
    "logging.basicConfig(level=logging.WARNING)"
   ]
  },
  {
   "cell_type": "code",
   "execution_count": null,
   "id": "c2f61bbf",
   "metadata": {},
   "outputs": [],
   "source": [
    "# Create and configure the kernel.\n",
    "from search import SearchPlugin\n",
    "\n",
    "kernel = Kernel()\n",
    "\n",
    "kernel.add_plugin(SearchPlugin(), plugin_name=\"search\")\n",
    "\n",
    "# The filter is used for demonstration purposes to show the function invocation.\n",
    "#kernel.add_filter(\"function_invocation\", function_invocation_filter)"
   ]
  },
  {
   "cell_type": "code",
   "execution_count": null,
   "id": "034167c5",
   "metadata": {},
   "outputs": [],
   "source": [
    "# Create the Coordinator agent. NOTE:The name of the agent must not contain spaces.\n",
    "search_agent = ChatCompletionAgent(\n",
    "    service=AzureChatCompletion(deployment_name=\"gpt-4o\"),\n",
    "    name=\"SearchAgent\",\n",
    "    instructions=(\n",
    "    \"\"\"\n",
    "    Your role is to search for information using Search to find relevant data and provide a summary of the results.\n",
    "    \"\"\"),\n",
    "    plugins=[\n",
    "        SearchPlugin(),\n",
    "    ],\n",
    ")"
   ]
  },
  {
   "cell_type": "code",
   "execution_count": null,
   "id": "817b6d5f",
   "metadata": {},
   "outputs": [],
   "source": [
    "thread: ChatHistoryAgentThread = None\n",
    "\n",
    "response = await search_agent.get_response(messages=\"Who won the 2025 NCAA Mens Basketball Championship?\", thread=thread)\n",
    "\n",
    "if response:\n",
    "    print(f\"Agent :> {response}\")\n",
    "\n",
    "await thread.delete() if thread else None"
   ]
  }
 ],
 "metadata": {
  "kernelspec": {
   "display_name": "Python 3",
   "language": "python",
   "name": "python3"
  },
  "language_info": {
   "codemirror_mode": {
    "name": "ipython",
    "version": 3
   },
   "file_extension": ".py",
   "mimetype": "text/x-python",
   "name": "python",
   "nbconvert_exporter": "python",
   "pygments_lexer": "ipython3",
   "version": "3.12.8"
  }
 },
 "nbformat": 4,
 "nbformat_minor": 5
}
