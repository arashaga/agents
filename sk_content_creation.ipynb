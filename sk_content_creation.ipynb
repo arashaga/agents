{
 "cells": [
  {
   "cell_type": "markdown",
   "id": "38233b12",
   "metadata": {},
   "source": [
    "### Start with importing the packages needed."
   ]
  },
  {
   "cell_type": "code",
   "execution_count": null,
   "id": "45ad87c0",
   "metadata": {},
   "outputs": [],
   "source": [
    "import logging\n",
    "from dotenv import load_dotenv\n",
    "\n",
    "from semantic_kernel import Kernel\n",
    "from semantic_kernel.agents import ChatCompletionAgent, ChatHistoryAgentThread\n",
    "from semantic_kernel.connectors.ai.open_ai import AzureChatCompletion\n",
    "from semantic_kernel.filters import FunctionInvocationContext\n",
    "from semantic_kernel.contents import FunctionCallContent, FunctionResultContent\n",
    "from semantic_kernel.contents.chat_message_content import ChatMessageContent\n",
    "\n",
    "# Load environment variables from .env file\n",
    "load_dotenv()\n",
    "\n",
    "# NOTE: This is all that is required to enable logging.\n",
    "# Set the desired level to INFO, DEBUG, etc.\n",
    "logging.basicConfig(level=logging.WARNING)"
   ]
  },
  {
   "cell_type": "code",
   "execution_count": null,
   "id": "a380bdac",
   "metadata": {},
   "outputs": [],
   "source": [
    "# Define the auto function invocation filter that will be used by the kernel\n",
    "async def function_invocation_filter(context: FunctionInvocationContext, next):\n",
    "    \"\"\"A filter that will be called for each function call in the response.\"\"\"\n",
    "    if \"messages\" not in context.arguments:\n",
    "        await next(context)\n",
    "        return\n",
    "    #print(f\"    Agent [{context.function.name}] called with messages: {context.arguments['messages']}\")\n",
    "    await next(context)\n",
    "    #print(f\"    Response from agent [{context.function.name}]: {context.result.value}\")\n",
    "\n"
   ]
  },
  {
   "cell_type": "code",
   "execution_count": null,
   "id": "86271381",
   "metadata": {},
   "outputs": [],
   "source": [
    "intermediate_steps: list[ChatMessageContent] = []\n",
    "\n",
    "async def handle_intermediate_steps(message: ChatMessageContent) -> None:\n",
    "    intermediate_steps.append(message)"
   ]
  },
  {
   "cell_type": "code",
   "execution_count": null,
   "id": "10b44e54",
   "metadata": {},
   "outputs": [],
   "source": [
    "# Create and configure the kernel.\n",
    "from search import SearchPlugin\n",
    "\n",
    "kernel = Kernel()\n",
    "\n",
    "kernel.add_plugin(SearchPlugin(), plugin_name=\"search\")\n",
    "\n",
    "# The filter is used for demonstration purposes to show the function invocation.\n",
    "kernel.add_filter(\"function_invocation\", function_invocation_filter)"
   ]
  },
  {
   "cell_type": "code",
   "execution_count": null,
   "id": "663b5913",
   "metadata": {},
   "outputs": [],
   "source": [
    "# Create the Lead Market Analyst agent. NOTE: The name of the agent must not contain spaces.\n",
    "lead_research_agent = ChatCompletionAgent(\n",
    "    service= AzureChatCompletion(deployment_name=\"gpt-4o\"),\n",
    "    name=\"LeadResearchAgent\",\n",
    "    instructions=(\n",
    "    \"\"\"\n",
    "    As the Lead Research Analyst at a premier content platform, you specialize in finding information that best fits the needs of your\n",
    "    audience. Your primary responsibility is to ensure that the content produced by your team is not only accurate but also timely and\n",
    "    relevant. You will do this by conducting in-depth research. You will need to search the web to get this content.\n",
    "    \"\"\"),\n",
    "    plugins=[\n",
    "        SearchPlugin()\n",
    "    ],\n",
    "    \n",
    ")"
   ]
  },
  {
   "cell_type": "code",
   "execution_count": null,
   "id": "25ef3b2c",
   "metadata": {},
   "outputs": [],
   "source": [
    "# Create the Data Analyst agent. NOTE: The name of the agent must not contain spaces.\n",
    "data_analyst_agent = ChatCompletionAgent(\n",
    "    service=AzureChatCompletion(deployment_name=\"gpt-4o\"),\n",
    "    name=\"DataAnalystAgent\",\n",
    "    instructions=(\n",
    "    \"\"\"\n",
    "    As the Chief Data Strategist at a leading advisory firm, your expertise lies in analyzing vast datasets to uncover trends and\n",
    "    opportunities that inform high-impact strategies with the goal of Synthesizing complex data into actionable insights \n",
    "    that can be transformed into compelling content.\n",
    "    \"\"\"),\n",
    ")"
   ]
  },
  {
   "cell_type": "code",
   "execution_count": null,
   "id": "72be5c1a",
   "metadata": {},
   "outputs": [],
   "source": [
    "# Create the Content Creator agent. NOTE: The name of the agent must not contain spaces.\n",
    "blog_creator_agent = ChatCompletionAgent(\n",
    "    service=AzureChatCompletion(deployment_name=\"gpt-4o\"),\n",
    "    name=\"BlogCreatorAgent\",\n",
    "    instructions=(\n",
    "    \"\"\"\n",
    "    As the Content Creator at a leading advisory firm, your role is to transform complex data and insights into\n",
    "    engaging and informative content that resonates with our audience. You will be responsible for creating articles, blogs, and other\n",
    "    materials that effectively communicate our findings and recommendations. Additionally, you will collaborate with other agents to ensure\n",
    "    the content aligns with our overall strategy and objectives.\n",
    "    \"\"\"),\n",
    ")"
   ]
  },
  {
   "cell_type": "code",
   "execution_count": null,
   "id": "eeae421a",
   "metadata": {},
   "outputs": [],
   "source": [
    "social_creator_agent = ChatCompletionAgent(\n",
    "    service=AzureChatCompletion(deployment_name=\"gpt-4o\"),\n",
    "    name=\"SocialCreatorAgent\",\n",
    "    instructions=(\n",
    "    \"\"\"\n",
    "    As the Social Media Manager at a leading advisory firm, your role is to create engaging and impactful content for our social media\n",
    "    platforms. You will be responsible for crafting tweets, posts, and other materials that effectively communicate our findings and\n",
    "    recommendations. Any twitter posts, Instagram posts, and other posts should be very short and easy to understand, and should sound like clickbait.\n",
    "    Additionally, you will collaborate with other agents to ensure the content aligns with our overall strategy and objectives.\n",
    "    \"\"\"),\n",
    ")"
   ]
  },
  {
   "cell_type": "code",
   "execution_count": null,
   "id": "dfe30112",
   "metadata": {},
   "outputs": [],
   "source": [
    "# Create the Quality Assurance agent. NOTE: The name of the agent must not contain spaces.\n",
    "quality_assurance_agent = ChatCompletionAgent(\n",
    "    service=AzureChatCompletion(deployment_name=\"gpt-4o\"),\n",
    "    name=\"QualityAssuranceAgent\",\n",
    "    instructions=(\n",
    "    \"\"\"\n",
    "    As the Quality Assurance Specialist at a leading advisory firm, your role is to ensure that all content produced meets our\n",
    "    high standards for accuracy, clarity, and relevance. You will review and edit content created by the team to ensure it aligns with our\n",
    "    brand voice and effectively communicates our insights. Additionally, you will provide feedback to the social_creator_agent and the blog_creator_agent to enhance content quality.\n",
    "    \"\"\"),\n",
    ")"
   ]
  },
  {
   "cell_type": "code",
   "execution_count": null,
   "id": "0402f6b3",
   "metadata": {},
   "outputs": [],
   "source": [
    "# Create the Coordinator agent. NOTE:The name of the agent must not contain spaces.\n",
    "coordinator_agent = ChatCompletionAgent(\n",
    "    service=AzureChatCompletion(deployment_name=\"gpt-4o\"),\n",
    "    name=\"CoordinatorAgent\",\n",
    "    instructions=(\n",
    "    \"\"\"\n",
    "    As the Coordinator at a leading advisory firm, your role is to facilitate communication and collaboration among team members,\n",
    "    so that they can do research, write a blog, and create social media posts. You will be responsible for\n",
    "    coordinating the efforts of the Lead Research Analyst, Data Analyst, Blog Creator, and Social Media Manager to ensure that all\n",
    "    content is aligned with our overall strategy and objectives.\n",
    "    \n",
    "    \"\"\"),\n",
    "    plugins=[\n",
    "        lead_research_agent,\n",
    "        quality_assurance_agent,\n",
    "        data_analyst_agent,\n",
    "        blog_creator_agent,\n",
    "        social_creator_agent\n",
    "    ],\n",
    ")"
   ]
  },
  {
   "cell_type": "code",
   "execution_count": null,
   "id": "18b8de75",
   "metadata": {},
   "outputs": [],
   "source": [
    "thread: ChatHistoryAgentThread = None\n",
    "#response = await coordinator_agent.get_response(\n",
    "#    messages=\"Inflation in the US and the impact on the stock market in 2025\",\n",
    "#    thread=thread,\n",
    "#    on_intermediate_message=handle_intermediate_steps,\n",
    "#)\n",
    "\n",
    "# Topic\n",
    "topic = \"Inflation in the US and the impact on the stock market in 2025\"\n",
    "\n",
    "async for response in coordinator_agent.invoke(messages=topic,\n",
    "    thread=thread,\n",
    "    on_intermediate_message=handle_intermediate_steps):\n",
    "        #print(f\"# Agent: {response}\")\n",
    "        thread = response.thread\n",
    "\n",
    "# Print the intermediate steps\n",
    "print(\"\\nIntermediate Steps:\")\n",
    "for msg in intermediate_steps:\n",
    "    if any(isinstance(item, FunctionResultContent) for item in msg.items):\n",
    "        for fr in msg.items:\n",
    "            if isinstance(fr, FunctionResultContent):\n",
    "                print(f\"\\033[33mFunction Result for function: {fr.name} > \\033[0m{fr.result} \")\n",
    "    elif any(isinstance(item, FunctionCallContent) for item in msg.items):\n",
    "        for fcc in msg.items:\n",
    "            if isinstance(fcc, FunctionCallContent):\n",
    "                print(f\"\\033[33mFunction Call:> {fcc.name} with arguments: {fcc.arguments}\\033[0m\")\n",
    "    else:\n",
    "        print(f\"\\033[34m{msg.role}: {msg.content}\\033[0m\")"
   ]
  }
 ],
 "metadata": {
  "kernelspec": {
   "display_name": "Python 3",
   "language": "python",
   "name": "python3"
  },
  "language_info": {
   "codemirror_mode": {
    "name": "ipython",
    "version": 3
   },
   "file_extension": ".py",
   "mimetype": "text/x-python",
   "name": "python",
   "nbconvert_exporter": "python",
   "pygments_lexer": "ipython3",
   "version": "3.12.8"
  }
 },
 "nbformat": 4,
 "nbformat_minor": 5
}
